{
 "cells": [
  {
   "cell_type": "markdown",
   "metadata": {},
   "source": [
    "# Setup"
   ]
  },
  {
   "cell_type": "code",
   "execution_count": 1,
   "metadata": {},
   "outputs": [],
   "source": [
    "import base64, codecs, json, requests\n",
    "from settings import REST_HOST, MACAROON_PATH, TLS_PATH"
   ]
  },
  {
   "cell_type": "code",
   "execution_count": 2,
   "metadata": {},
   "outputs": [],
   "source": [
    "macaroon = codecs.encode(open(MACAROON_PATH, 'rb').read(), 'hex')\n",
    "headers = {'Grpc-Metadata-macaroon': macaroon}"
   ]
  },
  {
   "cell_type": "markdown",
   "metadata": {},
   "source": [
    "# Mint"
   ]
  },
  {
   "cell_type": "code",
   "execution_count": 34,
   "metadata": {},
   "outputs": [
    {
     "name": "stdout",
     "output_type": "stream",
     "text": [
      "<_io.TextIOWrapper name='test.txt' mode='r' encoding='UTF-8'>\n"
     ]
    }
   ],
   "source": [
    "with open('test.txt') as fname:\n",
    "    print(fname)"
   ]
  },
  {
   "cell_type": "code",
   "execution_count": 49,
   "metadata": {},
   "outputs": [
    {
     "data": {
      "text/plain": [
       "'353436353733373436393665363732303634363137343631'"
      ]
     },
     "execution_count": 49,
     "metadata": {},
     "output_type": "execute_result"
    }
   ],
   "source": [
    "import binascii\n",
    "\n",
    "data = binascii.hexlify(b'Testing data')\n",
    "data.hex()"
   ]
  },
  {
   "cell_type": "code",
   "execution_count": 50,
   "metadata": {},
   "outputs": [
    {
     "name": "stdout",
     "output_type": "stream",
     "text": [
      "{'pending_batch': {'batch_key': '03e82da8fdef1ea560ef0dc762b58aa0e6e6c8f7779287256e287fa00c55694c24', 'assets': [{'asset_type': 'NORMAL', 'name': 'DREA', 'asset_meta': {'data': '353436353733373436393665363732303634363137343631', 'type': 'META_TYPE_OPAQUE', 'meta_hash': '16430e418e173f498b30583dbad06ac4be7f46f13999db53ce8aa6e253204e3a'}, 'amount': '1000', 'group_key': '', 'group_anchor': '', 'asset_version': 'ASSET_VERSION_V0'}, {'asset_type': 'NORMAL', 'name': 'METADATA', 'asset_meta': {'data': '353436353733373436393665363732303634363137343631', 'type': 'META_TYPE_OPAQUE', 'meta_hash': '16430e418e173f498b30583dbad06ac4be7f46f13999db53ce8aa6e253204e3a'}, 'amount': '1000', 'group_key': '', 'group_anchor': '', 'asset_version': 'ASSET_VERSION_V0'}], 'state': 'BATCH_STATE_PEDNING'}}\n"
     ]
    }
   ],
   "source": [
    "url = f'https://{REST_HOST}/v1/taproot-assets/assets'\n",
    "data = {\n",
    "  'asset': {\n",
    "      'asset_type': 0,\n",
    "      'name': 'METADATA',\n",
    "      'asset_meta': {\n",
    "          'data': data.hex(),\n",
    "          'type': 0,\n",
    "          # 'meta_hash': ''\n",
    "      },\n",
    "      'amount': 1000\n",
    "  },\n",
    "  'enable_emission': False,\n",
    "  'short_response': False,\n",
    "}\n",
    "\n",
    "r = requests.post(url, headers=headers, data=json.dumps(data), verify=TLS_PATH)\n",
    "print(r.json())"
   ]
  },
  {
   "cell_type": "code",
   "execution_count": null,
   "metadata": {},
   "outputs": [],
   "source": [
    "url = f'https://{REST_HOST}/v1/taproot-assets/assets/mint/finalize'\n",
    "macaroon = codecs.encode(open(MACAROON_PATH, 'rb').read(), 'hex')\n",
    "headers = {'Grpc-Metadata-macaroon': macaroon}\n",
    "data = {\n",
    "  'short_response': True,\n",
    "}\n",
    "r = requests.post(url, headers=headers, data=json.dumps(data), verify=TLS_PATH)\n",
    "print(r.json())"
   ]
  }
 ],
 "metadata": {
  "kernelspec": {
   "display_name": ".venv",
   "language": "python",
   "name": "python3"
  },
  "language_info": {
   "codemirror_mode": {
    "name": "ipython",
    "version": 3
   },
   "file_extension": ".py",
   "mimetype": "text/x-python",
   "name": "python",
   "nbconvert_exporter": "python",
   "pygments_lexer": "ipython3",
   "version": "3.9.13"
  }
 },
 "nbformat": 4,
 "nbformat_minor": 2
}
