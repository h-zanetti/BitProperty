{
 "cells": [
  {
   "cell_type": "markdown",
   "metadata": {},
   "source": [
    "# Setup"
   ]
  },
  {
   "cell_type": "code",
   "execution_count": 1,
   "metadata": {},
   "outputs": [],
   "source": [
    "import base64, codecs, json, requests\n",
    "from settings import REST_HOST, MACAROON_PATH, TLS_PATH"
   ]
  },
  {
   "cell_type": "code",
   "execution_count": 114,
   "metadata": {},
   "outputs": [],
   "source": [
    "macaroon = codecs.encode(open(MACAROON_PATH, 'rb').read(), 'hex')\n",
    "headers = {'Grpc-Metadata-macaroon': macaroon}"
   ]
  },
  {
   "cell_type": "markdown",
   "metadata": {},
   "source": [
    "# Mint"
   ]
  },
  {
   "cell_type": "code",
   "execution_count": 119,
   "metadata": {},
   "outputs": [
    {
     "name": "stdout",
     "output_type": "stream",
     "text": [
      "{'pending_batch': {'batch_key': '034655c244b2f38617c6e69ec001433f05bd6b465e646a4c8f25059ba37d2a6036', 'assets': [{'asset_type': 'NORMAL', 'name': 'DREA', 'asset_meta': {'data': '54657374696e67206d65746164617461', 'type': 'META_TYPE_OPAQUE', 'meta_hash': '68b866db5a954a5e15a43c72428313bf25c800c2ac0f3361272825ddf9f41ed2'}, 'amount': '1000', 'group_key': '', 'group_anchor': '', 'asset_version': 'ASSET_VERSION_V0'}], 'state': 'BATCH_STATE_PEDNING'}}\n"
     ]
    }
   ],
   "source": [
    "url = f'https://{REST_HOST}/v1/taproot-assets/assets'\n",
    "data = {\n",
    "  'asset': {\n",
    "      'asset_type': 0,\n",
    "      'name': 'DREA',\n",
    "      'asset_meta': {\n",
    "          'data': '54657374696e67206d65746164617461',\n",
    "          'type': 0,\n",
    "      },\n",
    "      'amount': 1000\n",
    "  },\n",
    "  'enable_emission': False,\n",
    "  'short_response': False,\n",
    "}\n",
    "\n",
    "r = requests.post(url, headers=headers, data=json.dumps(data), verify=TLS_PATH)\n",
    "print(r.json())"
   ]
  },
  {
   "cell_type": "code",
   "execution_count": 7,
   "metadata": {},
   "outputs": [
    {
     "name": "stdout",
     "output_type": "stream",
     "text": [
      "{'code': 3, 'message': 'type mismatch, parameter: batch_key, error: illegal base64 data at input byte 64', 'details': []}\n"
     ]
    }
   ],
   "source": [
    "url = f'https://{REST_HOST}/v1/taproot-assets/assets/mint/batches/0281227112caaa4280828f77d89b2043778680c4914d657447edde3e118aeb0a87'\n",
    "macaroon = codecs.encode(open(MACAROON_PATH, 'rb').read(), 'hex')\n",
    "headers = {'Grpc-Metadata-macaroon': macaroon}\n",
    "r = requests.get(url, headers=headers, verify=TLS_PATH)\n",
    "print(r.json())"
   ]
  },
  {
   "cell_type": "code",
   "execution_count": 100,
   "metadata": {},
   "outputs": [
    {
     "name": "stdout",
     "output_type": "stream",
     "text": [
      "{'batch': {'batch_key': '027d5555bf38fb01183c8db3bbefd2e47e6861faedafbc057a09196c2b8db6f523', 'assets': [], 'state': 'BATCH_STATE_BROADCAST'}}\n"
     ]
    }
   ],
   "source": [
    "url = f'https://{REST_HOST}/v1/taproot-assets/assets/mint/finalize'\n",
    "macaroon = codecs.encode(open(MACAROON_PATH, 'rb').read(), 'hex')\n",
    "headers = {'Grpc-Metadata-macaroon': macaroon}\n",
    "data = {\n",
    "  'short_response': True,\n",
    "}\n",
    "r = requests.post(url, headers=headers, data=json.dumps(data), verify=TLS_PATH)\n",
    "print(r.json())"
   ]
  },
  {
   "cell_type": "markdown",
   "metadata": {},
   "source": [
    "# Get Assets"
   ]
  },
  {
   "cell_type": "code",
   "execution_count": 101,
   "metadata": {},
   "outputs": [
    {
     "name": "stdout",
     "output_type": "stream",
     "text": [
      "{'data': '54657374696e67206d65746164617461', 'type': 'META_TYPE_OPAQUE', 'meta_hash': '68b866db5a954a5e15a43c72428313bf25c800c2ac0f3361272825ddf9f41ed2'}\n"
     ]
    }
   ],
   "source": [
    "asset_id_str = '7d6e6c3e99bf71fd1b92a11f098135f0a211145044147b4e729022a2b6edd494'\n",
    "\n",
    "url = f'https://{REST_HOST}/v1/taproot-assets/assets/meta/asset-id/{asset_id_str}'\n",
    "macaroon = codecs.encode(open(MACAROON_PATH, 'rb').read(), 'hex')\n",
    "headers = {'Grpc-Metadata-macaroon': macaroon}\n",
    "r = requests.get(url, headers=headers, verify=TLS_PATH)\n",
    "print(r.json())"
   ]
  },
  {
   "cell_type": "code",
   "execution_count": 102,
   "metadata": {},
   "outputs": [
    {
     "data": {
      "text/plain": [
       "'Testing metadata'"
      ]
     },
     "execution_count": 102,
     "metadata": {},
     "output_type": "execute_result"
    }
   ],
   "source": [
    "data = '54657374696e67206d65746164617461'\n",
    "binascii.unhexlify(data).decode('utf-8')"
   ]
  },
  {
   "cell_type": "code",
   "execution_count": 115,
   "metadata": {},
   "outputs": [
    {
     "name": "stdout",
     "output_type": "stream",
     "text": [
      "{'addrs': [{'encoded': 'taprt1qqqsqqspqqzzq5tuhhn6l5f99dz3s5f66e6hcr3sjxks7rnlnvas3qp0srwj5utxqcssys68lhp20g3dutt23lylfe60d5j8p74amlqxvc2vlemupgzajdkspqss8cxcqhnhvuk0mgclqmsccdq53psyxve2gaug0tj2twsqaaen88rtpgqkgrp0dpshx6rdv95kcw309akkz6tvvfhhstn5v4ex66twv9kzumrfva58gmnfdenjuar0v3shjw35xsesdmj87k', 'asset_id': '517cbde7afd1252b4518513ad6757c0e3091ad0f0e7f9b3b08802f80dd2a7166', 'asset_type': 'NORMAL', 'amount': '100', 'group_key': '', 'script_key': '024347fdc2a7a22de2d6a8fc9f4e74f6d2470fabddfc066614cfe77c0a05d936d0', 'internal_key': '03e0d805e77672cfda31f06e18c3414886043332a477887ae4a5ba00ef73339c6b', 'tapscript_sibling': '', 'taproot_output_key': '3a43bf3e98715694199e56f21205293e4670156cab8e6fbf21c59f8ed5044b28', 'proof_courier_addr': 'hashmail://mailbox.terminal.lightning.today:443', 'asset_version': 'ASSET_VERSION_V0'}, {'encoded': 'taprt1qqqsqqspqqzzqltwdslfn0m3l5de9gglpxqntu9zzy29q3q50d889ypz52mwm4y5qcssyzy0ztle2dfc2q5mwyjs7sjmg2pv8jf2rs6qxghw22m54jqzcdytpqssxr2uhg26trlgmm5quz3sc0dcn9g3gemstuyd5eesdp23rmuyjq4vpgqkgrp0dpshx6rdv95kcw309akkz6tvvfhhstn5v4ex66twv9kzumrfva58gmnfdenjuar0v3shjw35xses0v206d', 'asset_id': '7d6e6c3e99bf71fd1b92a11f098135f0a211145044147b4e729022a2b6edd494', 'asset_type': 'NORMAL', 'amount': '100', 'group_key': '', 'script_key': '02088f12ff9535385029b71250f425b4282c3c92a1c340322ee52b74ac802c348b', 'internal_key': '030d5cba15a58fe8dee80e0a30c3db899511467705f08da6730685511ef84902ac', 'tapscript_sibling': '', 'taproot_output_key': '5f60d87ed975d79d3bb05b57f1511afd65296075e5d8c2495e684fc68d6ea26e', 'proof_courier_addr': 'hashmail://mailbox.terminal.lightning.today:443', 'asset_version': 'ASSET_VERSION_V0'}]}\n"
     ]
    }
   ],
   "source": [
    "url = f'https://{REST_HOST}/v1/taproot-assets/addrs'\n",
    "macaroon = codecs.encode(open(MACAROON_PATH, 'rb').read(), 'hex')\n",
    "headers = {'Grpc-Metadata-macaroon': macaroon}\n",
    "r = requests.get(url, headers=headers, verify=TLS_PATH)\n",
    "print(r.json())"
   ]
  },
  {
   "cell_type": "code",
   "execution_count": 117,
   "metadata": {},
   "outputs": [
    {
     "name": "stdout",
     "output_type": "stream",
     "text": [
      "2\n",
      "517cbde7afd1252b4518513ad6757c0e3091ad0f0e7f9b3b08802f80dd2a7166\n",
      "7d6e6c3e99bf71fd1b92a11f098135f0a211145044147b4e729022a2b6edd494\n"
     ]
    }
   ],
   "source": [
    "result = r.json()\n",
    "print(len(result['addrs']))\n",
    "\n",
    "for i in result.values():\n",
    "    for a in i:\n",
    "        print(a['asset_id'])"
   ]
  },
  {
   "cell_type": "markdown",
   "metadata": {},
   "source": [
    "# Testing Metadata Hash"
   ]
  },
  {
   "cell_type": "code",
   "execution_count": 52,
   "metadata": {},
   "outputs": [
    {
     "data": {
      "text/plain": [
       "'353436353733373436393665363732303634363137343631'"
      ]
     },
     "execution_count": 52,
     "metadata": {},
     "output_type": "execute_result"
    }
   ],
   "source": [
    "response = r.json()\n",
    "response['data']"
   ]
  },
  {
   "cell_type": "code",
   "execution_count": 62,
   "metadata": {},
   "outputs": [
    {
     "name": "stdout",
     "output_type": "stream",
     "text": [
      "54657374696e672064617461\n"
     ]
    }
   ],
   "source": [
    "hex_string = response['data']\n",
    "byte_string = bytes.fromhex(hex_string)            \n",
    "result = byte_string.decode('utf-8')\n",
    "print(result)"
   ]
  },
  {
   "cell_type": "code",
   "execution_count": 96,
   "metadata": {},
   "outputs": [
    {
     "name": "stdout",
     "output_type": "stream",
     "text": [
      "54657374696e67206d65746164617461\n"
     ]
    }
   ],
   "source": [
    "s = bytes('Testing metadata', 'utf-8')\n",
    "hex_bites = binascii.hexlify(s)\n",
    "result1 = hex_bites.decode('utf-8')\n",
    "print(result1)"
   ]
  },
  {
   "cell_type": "code",
   "execution_count": 91,
   "metadata": {},
   "outputs": [
    {
     "name": "stdout",
     "output_type": "stream",
     "text": [
      "7b226e616d65223a202254657374206e616d65222c20226465736372697074696f6e223a2022436f6d6d656e742061626f75742074657374696e672e227d\n"
     ]
    }
   ],
   "source": [
    "# s = 'Test data'\n",
    "s = {'name': 'Test name', 'description': 'Comment about testing.'}\n",
    "s = json.dumps(s).encode('utf-8')\n",
    "hex_bites = binascii.hexlify(s)\n",
    "result1 = hex_bites.decode('utf-8')\n",
    "print(result1)"
   ]
  },
  {
   "cell_type": "code",
   "execution_count": 92,
   "metadata": {},
   "outputs": [
    {
     "data": {
      "text/plain": [
       "'{\"name\": \"Test name\", \"description\": \"Comment about testing.\"}'"
      ]
     },
     "execution_count": 92,
     "metadata": {},
     "output_type": "execute_result"
    }
   ],
   "source": [
    "binascii.unhexlify(result1).decode('utf-8')"
   ]
  },
  {
   "cell_type": "code",
   "execution_count": 89,
   "metadata": {},
   "outputs": [
    {
     "data": {
      "text/plain": [
       "b'{\"name\": \"Test name\", \"description\": \"Comment about testing.\"}'"
      ]
     },
     "execution_count": 89,
     "metadata": {},
     "output_type": "execute_result"
    }
   ],
   "source": [
    "s = {'name': 'Test name', 'description': 'Comment about testing.'}\n",
    "json.dumps(s).encode('utf-8')"
   ]
  },
  {
   "cell_type": "markdown",
   "metadata": {},
   "source": [
    "# Sending Assets"
   ]
  },
  {
   "cell_type": "code",
   "execution_count": null,
   "metadata": {},
   "outputs": [],
   "source": [
    "url = f'https://{REST_HOST}/v1/taproot-assets/send'\n",
    "macaroon = codecs.encode(open(MACAROON_PATH, 'rb').read(), 'hex')\n",
    "headers = {'Grpc-Metadata-macaroon': macaroon}\n",
    "data = {\n",
    "  'tap_addrs': <string>,\n",
    "}\n",
    "r = requests.post(url, headers=headers, data=json.dumps(data), verify=TLS_PATH)\n",
    "print(r.json())"
   ]
  },
  {
   "cell_type": "code",
   "execution_count": null,
   "metadata": {},
   "outputs": [],
   "source": [
    "url = f'https://{REST_HOST}/v1/invoices'\n",
    "macaroon = codecs.encode(open(MACAROON_PATH, 'rb').read(), 'hex')\n",
    "headers = {'Grpc-Metadata-macaroon': macaroon}\n",
    "data = {\n",
    "  'memo': <string>,\n",
    "  'r_preimage': base64.b64encode(<bytes>),\n",
    "  'r_hash': base64.b64encode(<bytes>),\n",
    "  'value': <int64>,\n",
    "  'value_msat': <int64>,\n",
    "  'settled': <bool>,\n",
    "  'creation_date': <int64>,\n",
    "  'settle_date': <int64>,\n",
    "  'payment_request': <string>,\n",
    "  'description_hash': base64.b64encode(<bytes>),\n",
    "  'expiry': <int64>,\n",
    "  'fallback_addr': <string>,\n",
    "  'cltv_expiry': <uint64>,\n",
    "  'route_hints': <RouteHint>,\n",
    "  'private': <bool>,\n",
    "  'add_index': <uint64>,\n",
    "  'settle_index': <uint64>,\n",
    "  'amt_paid': <int64>,\n",
    "  'amt_paid_sat': <int64>,\n",
    "  'amt_paid_msat': <int64>,\n",
    "  'state': <InvoiceState>,\n",
    "  'htlcs': <InvoiceHTLC>,\n",
    "  'features': <FeaturesEntry>,\n",
    "  'is_keysend': <bool>,\n",
    "  'payment_addr': base64.b64encode(<bytes>),\n",
    "  'is_amp': <bool>,\n",
    "  'amp_invoice_state': <AmpInvoiceStateEntry>,\n",
    "}\n",
    "r = requests.post(url, headers=headers, data=json.dumps(data), verify=TLS_PATH)\n",
    "print(r.json())"
   ]
  }
 ],
 "metadata": {
  "kernelspec": {
   "display_name": ".venv",
   "language": "python",
   "name": "python3"
  },
  "language_info": {
   "codemirror_mode": {
    "name": "ipython",
    "version": 3
   },
   "file_extension": ".py",
   "mimetype": "text/x-python",
   "name": "python",
   "nbconvert_exporter": "python",
   "pygments_lexer": "ipython3",
   "version": "3.9.13"
  }
 },
 "nbformat": 4,
 "nbformat_minor": 2
}
